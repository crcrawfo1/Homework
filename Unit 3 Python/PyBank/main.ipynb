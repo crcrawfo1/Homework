{
 "cells": [
  {
   "cell_type": "markdown",
   "metadata": {},
   "source": [
    "## PyBank\n",
    "\n",
    "## Create a Python script that analyzes the records to calculate each of the following:\n",
    "    * The total number of months included in the dataset.\n",
    "    * The net total amount of Profit/Losses over the entire period.\n",
    "    * The average of the changes in Profit/Losses over the entire period.\n",
    "    * The Greatest increase in profits (date and amount) over the entire period.\n",
    "    * The greatest decrease in losses (date and amount) over the entire period."
   ]
  },
  {
   "cell_type": "code",
   "execution_count": 1,
   "metadata": {},
   "outputs": [
    {
     "name": "stdout",
     "output_type": "stream",
     "text": [
      "Financial Analysis:\n",
      "---------------------\n",
      "Total Months: 86\n",
      "Total : $38382578\n",
      "Average Change: $-2315.12\n",
      "Greatest Increase in Profits: Feb-2012 ($1926159)\n",
      "Greatest Decrease in Profits: Sep-2013 ($-2196167)\n"
     ]
    }
   ],
   "source": [
    "import pandas as pd  #import pandas to perform the calculations\n",
    "\n",
    "budgetdf = pd.read_csv('budget_data.csv')#import budget data csv\n",
    "\n",
    "budgetdf['shift_1'] = budgetdf['Profit/Losses'].shift(1) #Adding a column with the data shifted by 1 cell \n",
    "budgetdf['net_change'] = budgetdf['Profit/Losses'] - budgetdf['shift_1'] #Adding a column with the Net change calculated \n",
    "\n",
    "\n",
    "budgetdf.head\n",
    "\n",
    "#set variables for printing\n",
    "total = budgetdf['Profit/Losses'].sum() #Total profit or loss\n",
    "average_change = budgetdf['net_change'].mean() #Average net change\n",
    "greatest_increase = budgetdf['net_change'].max() #Greatest positive change\n",
    "greatest_decrease = budgetdf['net_change'].min() #Greatest negative change\n",
    "\n",
    "budgetdf = budgetdf.set_index('Date') #Set the index to be the date column\n",
    "\n",
    "#find the index of the greatest increase and decrease, which is now the month, put that index into a list\n",
    "increase_date = budgetdf.net_change[budgetdf.net_change == greatest_increase].index.tolist()\n",
    "decrease_date = budgetdf.net_change[budgetdf.net_change == greatest_decrease].index.tolist()\n",
    "\n",
    "#Generate .txt with financial analysis\n",
    "with open('Financial_Analysis.txt','w') as file:\n",
    "    file.write('Financial Analysis:')\n",
    "    file.write('\\n---------------------')\n",
    "    file.write(f'\\nTotal Months: {budgetdf.shape[0]}') #budgetdf.shape returns the number of months\n",
    "    file.write(f'\\nTotal : ${total}')\n",
    "    file.write(f'\\nAverage Change: ${round(average_change, 2)}')\n",
    "    file.write(f'\\nGreatest Increase in Profits: {increase_date[0]} (${int(greatest_increase)})')\n",
    "    file.write(f'\\nGreatest Decrease in Profits: {decrease_date[0]} (${int(greatest_decrease)})')\n",
    "    \n",
    "#print financial analysis to terminal\n",
    "print('Financial Analysis:')\n",
    "print('---------------------')\n",
    "print(f'Total Months: {budgetdf.shape[0]}') #budgetdf.shape returns the number of months\n",
    "print(f'Total : ${total}')\n",
    "print(f'Average Change: ${round(average_change, 2)}')\n",
    "print(f'Greatest Increase in Profits: {increase_date[0]} (${int(greatest_increase)})')\n",
    "print(f'Greatest Decrease in Profits: {decrease_date[0]} (${int(greatest_decrease)})')"
   ]
  },
  {
   "cell_type": "code",
   "execution_count": null,
   "metadata": {},
   "outputs": [],
   "source": []
  }
 ],
 "metadata": {
  "kernelspec": {
   "display_name": "Python 3",
   "language": "python",
   "name": "python3"
  },
  "language_info": {
   "codemirror_mode": {
    "name": "ipython",
    "version": 3
   },
   "file_extension": ".py",
   "mimetype": "text/x-python",
   "name": "python",
   "nbconvert_exporter": "python",
   "pygments_lexer": "ipython3",
   "version": "3.8.3"
  }
 },
 "nbformat": 4,
 "nbformat_minor": 4
}
